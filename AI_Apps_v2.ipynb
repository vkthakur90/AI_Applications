{
  "nbformat": 4,
  "nbformat_minor": 0,
  "metadata": {
    "colab": {
      "provenance": [],
      "authorship_tag": "ABX9TyOfGs/NYuDO0TG6EvPaOnU0",
      "include_colab_link": true
    },
    "kernelspec": {
      "name": "python3",
      "display_name": "Python 3"
    },
    "language_info": {
      "name": "python"
    }
  },
  "cells": [
    {
      "cell_type": "markdown",
      "metadata": {
        "id": "view-in-github",
        "colab_type": "text"
      },
      "source": [
        "<a href=\"https://colab.research.google.com/github/vkthakur90/AI_Applications/blob/master/AI_Apps_v2.ipynb\" target=\"_parent\"><img src=\"https://colab.research.google.com/assets/colab-badge.svg\" alt=\"Open In Colab\"/></a>"
      ]
    },
    {
      "cell_type": "code",
      "execution_count": 1,
      "metadata": {
        "id": "_TnXYjj6QX-L"
      },
      "outputs": [],
      "source": [
        "!pip install -Uq gradio huggingface_hub"
      ]
    },
    {
      "cell_type": "code",
      "source": [
        "import google.colab.userdata as gcud\n",
        "import huggingface_hub as hf_hub\n",
        "import gradio as gr"
      ],
      "metadata": {
        "id": "SGm4_CuTQoFA"
      },
      "execution_count": 2,
      "outputs": []
    },
    {
      "cell_type": "code",
      "source": [
        "hf_client = hf_hub.InferenceClient(token = gcud.get('HF_TOKEN'))"
      ],
      "metadata": {
        "id": "X0G1sVWkQ_y3"
      },
      "execution_count": 3,
      "outputs": []
    },
    {
      "cell_type": "code",
      "source": [
        "def create_prompt(question):\n",
        "    prompt = f\"\"\"\n",
        "<|system|>\n",
        "You are a scientist chatbot who is expert in Organic Chemistry</s>\n",
        "<|user|>\n",
        "{question}</s>\n",
        "<|assistant|>\n",
        "    \"\"\"\n",
        "\n",
        "    return prompt"
      ],
      "metadata": {
        "id": "57MU0X1fbVHP"
      },
      "execution_count": 4,
      "outputs": []
    },
    {
      "cell_type": "code",
      "source": [
        "def interface(question):\n",
        "    prompt = create_prompt(question)\n",
        "\n",
        "    response = hf_client.text_generation(\n",
        "        prompt = prompt,\n",
        "        model = 'HuggingFaceH4/zephyr-7b-beta',\n",
        "        max_new_tokens = 1024,\n",
        "        stream = False\n",
        "    )\n",
        "\n",
        "    return response"
      ],
      "metadata": {
        "id": "NyY9OQliRSGS"
      },
      "execution_count": 5,
      "outputs": []
    },
    {
      "cell_type": "code",
      "source": [
        "app = gr.Interface(\n",
        "    fn = interface,\n",
        "    inputs = gr.Textbox(label = 'Input Prompt'),\n",
        "    outputs = gr.Textbox(label = 'Generated Response')\n",
        ")"
      ],
      "metadata": {
        "id": "LmCgRBwGSdd_"
      },
      "execution_count": 6,
      "outputs": []
    },
    {
      "cell_type": "code",
      "source": [
        "app.launch(share = True, debug = True)"
      ],
      "metadata": {
        "colab": {
          "base_uri": "https://localhost:8080/",
          "height": 626
        },
        "id": "VmO5G2g3TN1F",
        "outputId": "c8f7fb59-718e-4a01-d27a-6be388899f6e"
      },
      "execution_count": 7,
      "outputs": [
        {
          "output_type": "stream",
          "name": "stdout",
          "text": [
            "Colab notebook detected. This cell will run indefinitely so that you can see errors and logs. To turn off, set debug=False in launch().\n",
            "Running on public URL: https://27954642791451532c.gradio.live\n",
            "\n",
            "This share link expires in 72 hours. For free permanent hosting and GPU upgrades, run `gradio deploy` from Terminal to deploy to Spaces (https://huggingface.co/spaces)\n"
          ]
        },
        {
          "output_type": "display_data",
          "data": {
            "text/plain": [
              "<IPython.core.display.HTML object>"
            ],
            "text/html": [
              "<div><iframe src=\"https://27954642791451532c.gradio.live\" width=\"100%\" height=\"500\" allow=\"autoplay; camera; microphone; clipboard-read; clipboard-write;\" frameborder=\"0\" allowfullscreen></iframe></div>"
            ]
          },
          "metadata": {}
        },
        {
          "output_type": "stream",
          "name": "stdout",
          "text": [
            "Keyboard interruption in main thread... closing server.\n",
            "Killing tunnel 127.0.0.1:7860 <> https://27954642791451532c.gradio.live\n"
          ]
        },
        {
          "output_type": "execute_result",
          "data": {
            "text/plain": []
          },
          "metadata": {},
          "execution_count": 7
        }
      ]
    },
    {
      "cell_type": "code",
      "source": [],
      "metadata": {
        "id": "vesz_fvXaQxd"
      },
      "execution_count": 8,
      "outputs": []
    }
  ]
}